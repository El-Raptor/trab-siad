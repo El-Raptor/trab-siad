{
 "cells": [
  {
   "cell_type": "code",
   "execution_count": 1,
   "metadata": {},
   "outputs": [],
   "source": [
    "import pandas as pd"
   ]
  },
  {
   "cell_type": "code",
   "execution_count": 2,
   "metadata": {},
   "outputs": [
    {
     "name": "stdout",
     "output_type": "stream",
     "text": [
      "(1, 1)\n",
      "                                                                                                                                                                                                                                                                                                                                        cod_ine\n",
      "13 Madrid 4 5 8 10 29 49 70 90 137 174 202 469 782 1024 1388 1990 2940 3544 4165 4871 5637 6777 7165 8921 9702 10575 12352 14597 17166 19243 21520 22677 24090 27509 29840 32155 34188 36249 37584 38723 40469 42450 43877 44783 45849 46587 47146 48048 49526 50694 51993 52946 54884 56963 57997 59199 60487 61726 62510 62817 63443    63989\n"
     ]
    }
   ],
   "source": [
    "df = pd.read_excel(\"C:/Users/Raptor/Documents/Faculdade/9º Semestre/Sistemas de Apoio a Decisão/Trabalho/Dados Trabalho/Dados Brutos/Corona/espana-madrid.xls\")\n",
    "print(df.shape)\n",
    "print(df.head())"
   ]
  },
  {
   "cell_type": "code",
   "execution_count": 4,
   "metadata": {},
   "outputs": [
    {
     "name": "stdout",
     "output_type": "stream",
     "text": [
      "(1, 1)\n",
      "            13\n",
      "        Madrid\n",
      "             4\n",
      "             5\n",
      "             8\n",
      "            10\n",
      "            29\n",
      "            49\n",
      "            70\n",
      "            90\n",
      "           137\n",
      "           174\n",
      "           202\n",
      "           469\n",
      "           782\n",
      "          1024\n",
      "          1388\n",
      "          1990\n",
      "          2940\n",
      "          3544\n",
      "          4165\n",
      "          4871\n",
      "          5637\n",
      "          6777\n",
      "          7165\n",
      "          8921\n",
      "          9702\n",
      "         10575\n",
      "         12352\n",
      "         14597\n",
      "         17166\n",
      "         19243\n",
      "         21520\n",
      "         22677\n",
      "         24090\n",
      "         27509\n",
      "         29840\n",
      "         32155\n",
      "         34188\n",
      "         36249\n",
      "         37584\n",
      "         38723\n",
      "         40469\n",
      "         42450\n",
      "         43877\n",
      "         44783\n",
      "         45849\n",
      "         46587\n",
      "         47146\n",
      "         48048\n",
      "         49526\n",
      "         50694\n",
      "         51993\n",
      "         52946\n",
      "         54884\n",
      "         56963\n",
      "         57997\n",
      "         59199\n",
      "         60487\n",
      "         61726\n",
      "         62510\n",
      "         62817\n",
      "         63443\n",
      "cod_ine  63989\n"
     ]
    }
   ],
   "source": [
    "df_transposed = df.transpose() #or df.T\n",
    "print(df_transposed.shape)\n",
    "print(df_transposed.head())"
   ]
  },
  {
   "cell_type": "code",
   "execution_count": 5,
   "metadata": {},
   "outputs": [],
   "source": [
    "df_transposed.to_excel(\"C:/Users/Raptor/Documents/Faculdade/9º Semestre/Sistemas de Apoio a Decisão/Trabalho/Dados Trabalho/Dados Transformados/Corona/espana-madrid.xls\")"
   ]
  },
  {
   "cell_type": "code",
   "execution_count": null,
   "metadata": {},
   "outputs": [],
   "source": []
  }
 ],
 "metadata": {
  "kernelspec": {
   "display_name": "Python 3",
   "language": "python",
   "name": "python3"
  },
  "language_info": {
   "codemirror_mode": {
    "name": "ipython",
    "version": 3
   },
   "file_extension": ".py",
   "mimetype": "text/x-python",
   "name": "python",
   "nbconvert_exporter": "python",
   "pygments_lexer": "ipython3",
   "version": "3.7.6"
  }
 },
 "nbformat": 4,
 "nbformat_minor": 4
}
